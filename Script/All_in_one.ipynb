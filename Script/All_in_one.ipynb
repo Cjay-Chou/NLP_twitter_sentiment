{
 "cells": [
  {
   "cell_type": "markdown",
   "metadata": {},
   "source": [
    "# NLP twitter sentiment judge Neural Network\n",
    "\n",
    "### "
   ]
  },
  {
   "cell_type": "markdown",
   "metadata": {},
   "source": [
    "### Read data"
   ]
  },
  {
   "cell_type": "code",
   "execution_count": 7,
   "metadata": {},
   "outputs": [],
   "source": [
    "import pandas as pd\n",
    "import numpy as np\n",
    "import re\n",
    "import keras"
   ]
  },
  {
   "cell_type": "code",
   "execution_count": 11,
   "metadata": {},
   "outputs": [
    {
     "name": "stderr",
     "output_type": "stream",
     "text": [
      "b'Skipping line 8836: expected 4 fields, saw 5\\n'\n",
      "b'Skipping line 535882: expected 4 fields, saw 7\\n'\n"
     ]
    },
    {
     "name": "stdout",
     "output_type": "stream",
     "text": [
      "1    790177\n",
      "0    788435\n",
      "Name: Sentiment, dtype: int64\n"
     ]
    }
   ],
   "source": [
    "data_path = '../data/train.csv'\n",
    "data = pd.read_csv(data_path, sep=\",\", error_bad_lines=False)\n",
    "print(pd.value_counts(data['Sentiment']))"
   ]
  },
  {
   "cell_type": "markdown",
   "metadata": {},
   "source": [
    "### Data clean"
   ]
  },
  {
   "cell_type": "code",
   "execution_count": 12,
   "metadata": {},
   "outputs": [],
   "source": [
    "def data_cleaning(data):\n",
    "    #change to lower char\n",
    "    data['SentimentText'] = data['SentimentText'].str.lower()\n",
    "    #make sure size\n",
    "    data['SentimentText'].fillna(value=\"nan\", inplace=True)\n",
    "\n",
    "    #use RE remove none use mark\n",
    "    f1 = lambda a: re.sub(r'(@.*? )', '', a)\n",
    "    f2 = lambda a: re.sub(r'(@.*?$)', '', a)\n",
    "    f3 = lambda a: re.sub(' +', ' ', a)\n",
    "    data['SentimentText'] = data['SentimentText'].apply(f1)\n",
    "    data['SentimentText'] = data['SentimentText'].apply(f2)\n",
    "    data['SentimentText'] = data['SentimentText'].apply(f3)\n",
    "\n",
    "    return data"
   ]
  },
  {
   "cell_type": "code",
   "execution_count": 13,
   "metadata": {},
   "outputs": [],
   "source": [
    "data = data_cleaning(data)"
   ]
  },
  {
   "cell_type": "markdown",
   "metadata": {},
   "source": [
    "### Pre-processing"
   ]
  },
  {
   "cell_type": "code",
   "execution_count": 27,
   "metadata": {},
   "outputs": [
    {
     "name": "stdout",
     "output_type": "stream",
     "text": [
      "379545\n"
     ]
    }
   ],
   "source": [
    "#max len of sentence\n",
    "MAX_LEN = 50\n",
    "\n",
    "def flatten(l):\n",
    "    return [item for sublist in l for item in sublist]\n",
    "\n",
    "raw_text = data['SentimentText']\n",
    "tok_raw = keras.preprocessing.text.Tokenizer()\n",
    "tok_raw.fit_on_texts(raw_text)\n",
    "\n",
    "data['seq_sentimenttext'] = tok_raw.texts_to_sequences(data['SentimentText'])\n",
    "words_num = np.unique(flatten(data['seq_sentimenttext'])).shape[0] + 1\n",
    "print(words_num)\n",
    "\n",
    "data_X = keras.preprocessing.sequence.pad_sequences(data['seq_sentimenttext'], maxlen=MAX_LEN)\n"
   ]
  },
  {
   "cell_type": "code",
   "execution_count": 28,
   "metadata": {},
   "outputs": [],
   "source": [
    "data_Y = keras.utils.to_categorical(data['Sentiment'], num_classes=2)"
   ]
  },
  {
   "cell_type": "markdown",
   "metadata": {},
   "source": [
    "### save as pkl (not run every time)"
   ]
  },
  {
   "cell_type": "code",
   "execution_count": 29,
   "metadata": {},
   "outputs": [],
   "source": [
    "\"\"\"import pickle\n",
    "data_w = {'X':data_X,'Y':data_Y,'words_num':words_num}\n",
    "with open('train_data.pkl', 'wb') as f:\n",
    "        pickle.dump(data_w, f)\"\"\"\n"
   ]
  },
  {
   "cell_type": "code",
   "execution_count": 31,
   "metadata": {},
   "outputs": [
    {
     "data": {
      "text/plain": [
       "(1578612, 50)"
      ]
     },
     "execution_count": 31,
     "metadata": {},
     "output_type": "execute_result"
    }
   ],
   "source": [
    "data_X.shape"
   ]
  },
  {
   "cell_type": "code",
   "execution_count": null,
   "metadata": {},
   "outputs": [],
   "source": []
  }
 ],
 "metadata": {
  "kernelspec": {
   "display_name": "Python 3",
   "language": "python",
   "name": "python3"
  },
  "language_info": {
   "codemirror_mode": {
    "name": "ipython",
    "version": 3
   },
   "file_extension": ".py",
   "mimetype": "text/x-python",
   "name": "python",
   "nbconvert_exporter": "python",
   "pygments_lexer": "ipython3",
   "version": "3.7.3"
  }
 },
 "nbformat": 4,
 "nbformat_minor": 2
}
